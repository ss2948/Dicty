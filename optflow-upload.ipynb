{
 "cells": [
  {
   "cell_type": "markdown",
   "metadata": {},
   "source": [
    "# Classification using Optical Flow\n",
    "\n",
    "We use optical flow to create velocity based feature vectors and classify between videos of 2 classes: with electric field and without electric field"
   ]
  },
  {
   "cell_type": "code",
   "execution_count": 1,
   "metadata": {},
   "outputs": [],
   "source": [
    "import numpy as np"
   ]
  },
  {
   "cell_type": "markdown",
   "metadata": {},
   "source": [
    "## File Upload\n",
    "\n",
    "We read the tiff image files from the corresponding folders for videos including both with electric field and without electric field"
   ]
  },
  {
   "cell_type": "code",
   "execution_count": 2,
   "metadata": {},
   "outputs": [],
   "source": [
    "import numpy as np \n",
    "from skimage import io\n",
    "import os\n",
    "import glob\n",
    "img_dir = \"flat cell videos/electric field/train\" # Enter Directory of all images \n",
    "data_path = os.path.join(img_dir,'*tif')\n",
    "files = glob.glob(data_path)\n",
    "flat_EFtrain = []\n",
    "for f1 in files:\n",
    "    img = io.imread(f1)\n",
    "    img = np.moveaxis(img,0,-1)\n",
    "    flat_EFtrain.append(img)\n",
    "    \n",
    "img_dir = \"flat cell videos/electric field/test\" # Enter Directory of all images \n",
    "data_path = os.path.join(img_dir,'*tif')\n",
    "files = glob.glob(data_path)\n",
    "flat_EFtest = []\n",
    "for f1 in files:\n",
    "    img = io.imread(f1)\n",
    "    img = np.moveaxis(img,0,-1)\n",
    "    flat_EFtest.append(img)\n",
    "    \n",
    "img_dir = \"ridged cell videos/electricfield/train\" # Enter Directory of all images \n",
    "data_path = os.path.join(img_dir,'*tif')\n",
    "files = glob.glob(data_path)\n",
    "ridged_EFtrain = []\n",
    "for f1 in files:\n",
    "    img = io.imread(f1)\n",
    "    img = np.moveaxis(img,0,-1)\n",
    "    ridged_EFtrain.append(img)\n",
    "    \n",
    "img_dir = \"ridged cell videos/electricfield/test\" # Enter Directory of all images \n",
    "data_path = os.path.join(img_dir,'*tif')\n",
    "files = glob.glob(data_path)\n",
    "ridged_EFtest = []\n",
    "for f1 in files:\n",
    "    img = io.imread(f1)\n",
    "    img = np.moveaxis(img,0,-1)\n",
    "    ridged_EFtest.append(img)\n",
    "    \n",
    "img_dir = \"flat cell videos/nofield\" # Enter Directory of all images \n",
    "data_path = os.path.join(img_dir,'*tif')\n",
    "files = glob.glob(data_path)\n",
    "flat_nofield = []\n",
    "for f1 in files:\n",
    "    img = io.imread(f1)\n",
    "    img = np.moveaxis(img,0,-1)\n",
    "    flat_nofield.append(img)\n",
    "    \n",
    "img_dir = \"ridged cell videos/nofield\" # Enter Directory of all images \n",
    "data_path = os.path.join(img_dir,'*tif')\n",
    "files = glob.glob(data_path)\n",
    "ridged_nofield = []\n",
    "for f1 in files:\n",
    "    img = io.imread(f1)\n",
    "    img = np.moveaxis(img,0,-1)\n",
    "    ridged_nofield.append(img)"
   ]
  },
  {
   "cell_type": "code",
   "execution_count": 3,
   "metadata": {},
   "outputs": [],
   "source": [
    "EF = flat_EFtrain + flat_EFtest + ridged_EFtrain + ridged_EFtest\n",
    "NF = flat_nofield + ridged_nofield"
   ]
  },
  {
   "cell_type": "markdown",
   "metadata": {},
   "source": [
    "# Optical flow calculation using feature tracking\n",
    "\n",
    "Here we use OpenCV to perform optical flow calculation combined with feature tracker and create veclocity based feature vector for each video "
   ]
  },
  {
   "cell_type": "code",
   "execution_count": 8,
   "metadata": {},
   "outputs": [],
   "source": [
    "#*****run the code here******#\n",
    "import numpy as np\n",
    "import cv2 as cv\n",
    "vel_EF = [] ##change NF and EF##\n",
    "\n",
    "\n",
    "for im in EF: ##change NF and EF##\n",
    "    im = np.moveaxis(im,(0,1,2),(1,2,0))\n",
    "    vel = []\n",
    "    im2 = []\n",
    "    frame_num = 300\n",
    "\n",
    "    j = 0\n",
    "\n",
    "    while j < im.shape[0] - frame_num:\n",
    "        im2.append(im[j:j+frame_num])\n",
    "        j = j+frame_num\n",
    "        \n",
    "    if im.shape[0] >= frame_num:\n",
    "        im2.append(im[-frame_num:])\n",
    "        \n",
    "    if len(im2) > 0:\n",
    "        im2 = np.stack(im2,axis=0)\n",
    "    else:\n",
    "        im2 = np.reshape(im,(1,im.shape[0],512,512))\n",
    "    \n",
    "    for l in range(im2.shape[0]):\n",
    "    # params for ShiTomasi corner detection\n",
    "        feature_params = dict( maxCorners = 300, qualityLevel = 0.2, minDistance = 7, blockSize = 10 )\n",
    "        # Parameters for lucas kanade optical flow\n",
    "        lk_params = dict( winSize  = (30,30), maxLevel = 3, criteria = (cv.TERM_CRITERIA_EPS | cv.TERM_CRITERIA_COUNT, 10, 0.03))\n",
    "        # Create some random colors\n",
    "        color = np.random.randint(0,255,(300,3))\n",
    "        # Take first frame and find corners in it\n",
    "        old_frame = cv.cvtColor(im2[l][0], cv.COLOR_GRAY2BGR)\n",
    "        old_gray = im2[l][0]\n",
    "        p0 = cv.goodFeaturesToTrack(old_gray, mask = None, **feature_params)\n",
    "        points_initial = p0.reshape(-1,2)\n",
    "\n",
    "        list_images = []\n",
    "\n",
    "        mask = np.zeros_like(old_frame)\n",
    "        j = 1\n",
    "        while j < im2[l].shape[0]:\n",
    "            frame = cv.cvtColor(im2[l][j], cv.COLOR_GRAY2BGR)\n",
    "            frame_gray = im2[l][j]\n",
    "            # calculate optical flow\n",
    "            p1, st, err = cv.calcOpticalFlowPyrLK(old_gray, frame_gray, p0, None, **lk_params)\n",
    "            # Select good points\n",
    "            if p1 is not None:\n",
    "                good_new = p1.reshape(-1,2)\n",
    "                good_old = p0.reshape(-1,2)\n",
    "            # draw the tracks\n",
    "            for i,(new,old) in enumerate(zip(good_new, good_old)):\n",
    "                a,b = new.ravel()\n",
    "                c,d = old.ravel()\n",
    "                mask = cv.line(mask, (int(a),int(b)),(int(c),int(d)), color[i].tolist(), 2)\n",
    "                frame = cv.circle(frame,(int(a),int(b)),5,color[i].tolist(),-1)\n",
    "            img = cv.add(frame,mask)\n",
    "            list_images.append(img)\n",
    "            k = cv.waitKey(30) & 0xff\n",
    "            if k == 27:\n",
    "                break\n",
    "            # Now update the previous frame and previous points\n",
    "            old_gray = frame_gray.copy()\n",
    "            p0 = good_new.reshape(-1,1,2)\n",
    "            j = j+1\n",
    "\n",
    "        points_final = p0.reshape(-1,2)\n",
    "        num_frames = j-1\n",
    "        avg_vel = np.mean(points_final - points_initial, axis=0)/num_frames\n",
    "        vel_norm = np.linalg.norm(avg_vel)\n",
    "        vel.append(np.append(avg_vel, [vel_norm])) ##change NF and EF##\n",
    "    vel = np.asarray(vel)\n",
    "    vel_EF.append(vel)\n"
   ]
  },
  {
   "cell_type": "code",
   "execution_count": 9,
   "metadata": {},
   "outputs": [
    {
     "data": {
      "text/plain": [
       "12"
      ]
     },
     "execution_count": 9,
     "metadata": {},
     "output_type": "execute_result"
    }
   ],
   "source": [
    "len(vel_EF)"
   ]
  },
  {
   "cell_type": "code",
   "execution_count": 10,
   "metadata": {},
   "outputs": [],
   "source": [
    "vel_NF = np.concatenate(vel_NF,axis=0)\n",
    "vel_EF = np.concatenate(vel_EF,axis=0)"
   ]
  },
  {
   "cell_type": "markdown",
   "metadata": {},
   "source": [
    "## Velocity magnitude\n",
    "\n",
    "Here we present a histogram of the average velocity magnitude for each video"
   ]
  },
  {
   "cell_type": "code",
   "execution_count": 12,
   "metadata": {},
   "outputs": [
    {
     "data": {
      "image/png": "[encoded data removed]",
      "text/plain": [
       "<Figure size 432x288 with 1 Axes>"
      ]
     },
     "metadata": {
      "needs_background": "light"
     },
     "output_type": "display_data"
    }
   ],
   "source": [
    "import matplotlib.pyplot as plt\n",
    "import seaborn as sn\n",
    "\n",
    "Features=['No field','Electric field']\n",
    "plt.hist(vel_NF[:,2], alpha=0.6)\n",
    "plt.hist(vel_EF[:,2], alpha=0.6)\n",
    "sn.set(font_scale=2.0)\n",
    "plt.legend(Features,loc=1, fontsize=14)\n",
    "plt.xlabel('Average velocity magnitude',fontsize=14)\n",
    "plt.show()"
   ]
  },
  {
   "cell_type": "markdown",
   "metadata": {},
   "source": [
    "## Data splits and classification\n",
    "\n",
    "We use scikit_learn's in-built train_test_split function to create random splits of the dataset into training and test set. We use SVM for classification and display the results using a confusion matrix."
   ]
  },
  {
   "cell_type": "code",
   "execution_count": 13,
   "metadata": {},
   "outputs": [],
   "source": [
    "X = np.concatenate((vel_NF, vel_EF),axis=0)\n",
    "y = np.concatenate((np.zeros(vel_NF.shape[0]), np.ones(vel_EF.shape[0])), axis=0)"
   ]
  },
  {
   "cell_type": "code",
   "execution_count": 14,
   "metadata": {},
   "outputs": [],
   "source": [
    "from sklearn.model_selection import train_test_split\n",
    "\n",
    "X_train, X_test, y_train, y_test = train_test_split(X, y, test_size=0.33, random_state=20)"
   ]
  },
  {
   "cell_type": "code",
   "execution_count": 15,
   "metadata": {},
   "outputs": [
    {
     "name": "stdout",
     "output_type": "stream",
     "text": [
      "Fitting the classifier to the training set\n",
      "done in 9.154s\n",
      "Best estimator found by grid search:\n",
      "LinearSVC(C=10, max_iter=1000000000)\n"
     ]
    }
   ],
   "source": [
    "from sklearn.model_selection import GridSearchCV\n",
    "from time import time\n",
    "from sklearn.svm import LinearSVC\n",
    "\n",
    "print(\"Fitting the classifier to the training set\")\n",
    "t0 = time()\n",
    "param_grid = {'C': [0.001, 0.01, 0.1, 1, 10, 1e2, 1e3, 5e3, 1e4, 5e4, 1e5]}               \n",
    "clf = GridSearchCV(\n",
    "    LinearSVC(class_weight=None, dual=True, max_iter=1000000000, penalty='l2'), param_grid\n",
    ")\n",
    "clf = clf.fit(X_train, y_train)\n",
    "print(\"done in %0.3fs\" % (time() - t0))\n",
    "print(\"Best estimator found by grid search:\")\n",
    "print(clf.best_estimator_)"
   ]
  },
  {
   "cell_type": "code",
   "execution_count": 16,
   "metadata": {},
   "outputs": [
    {
     "name": "stdout",
     "output_type": "stream",
     "text": [
      "Classification report for classifier LinearSVC(C=10, max_iter=1000000000):\n",
      "              precision    recall  f1-score   support\n",
      "\n",
      "         0.0       1.00      1.00      1.00         5\n",
      "         1.0       1.00      1.00      1.00         5\n",
      "\n",
      "    accuracy                           1.00        10\n",
      "   macro avg       1.00      1.00      1.00        10\n",
      "weighted avg       1.00      1.00      1.00        10\n",
      "\n",
      "\n"
     ]
    },
    {
     "data": {
      "text/plain": [
       "1.0"
      ]
     },
     "execution_count": 16,
     "metadata": {},
     "output_type": "execute_result"
    }
   ],
   "source": [
    "from sklearn import svm, metrics\n",
    "from sklearn.svm import LinearSVC\n",
    "\n",
    "#classifier = LinearSVC(penalty='l1', dual=False, C=1.0, max_iter=10000)\n",
    "classifier = LinearSVC(C=10, class_weight=None, dual=True, fit_intercept=True,\n",
    "     intercept_scaling=1, loss='squared_hinge', max_iter=1000000000,\n",
    "     multi_class='ovr', penalty='l2', random_state=None, tol=0.0001,\n",
    "     verbose=0)\n",
    "classifier.fit(X_train, y_train)\n",
    "\n",
    "predicted = classifier.predict(X_test)\n",
    "\n",
    "print(\"Classification report for classifier %s:\\n%s\\n\"\n",
    "      % (classifier, metrics.classification_report(y_test, predicted)))\n",
    "\n",
    "classifier.score(X_test,y_test)"
   ]
  },
  {
   "cell_type": "code",
   "execution_count": 18,
   "metadata": {},
   "outputs": [
    {
     "data": {
      "image/png": "[encoded data removed]",
      "text/plain": [
       "<Figure size 576x576 with 2 Axes>"
      ]
     },
     "metadata": {},
     "output_type": "display_data"
    }
   ],
   "source": [
    "import seaborn as sn\n",
    "import pandas as pd\n",
    "import matplotlib.pyplot as plt\n",
    "\n",
    "a = metrics.confusion_matrix(y_true=y_test, y_pred=predicted)\n",
    "df_cm = pd.DataFrame(a, range(2), range(2))\n",
    "plt.figure(figsize=(8,8))\n",
    "df_cm = df_cm.rename(index={0: \"No Field\", 1: \"Electric Field\"}, columns={0: \"No Field\", 1: \"Electric Field\"})\n",
    "sn.set(font_scale=2.0) # for label size\n",
    "sn.heatmap(df_cm, cmap=\"YlGnBu\", annot=True, fmt='.0f') # font size\n",
    "plt.show()"
   ]
  },
  {
   "cell_type": "code",
   "execution_count": null,
   "metadata": {},
   "outputs": [],
   "source": []
  }
 ],
 "metadata": {
  "kernelspec": {
   "display_name": "Python 3",
   "language": "python",
   "name": "python3"
  },
  "language_info": {
   "codemirror_mode": {
    "name": "ipython",
    "version": 3
   },
   "file_extension": ".py",
   "mimetype": "text/x-python",
   "name": "python",
   "nbconvert_exporter": "python",
   "pygments_lexer": "ipython3",
   "version": "3.8.5"
  }
 },
 "nbformat": 4,
 "nbformat_minor": 4
}
